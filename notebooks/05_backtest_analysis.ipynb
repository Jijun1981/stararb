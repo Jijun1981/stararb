{
 "cells": [
  {
   "cell_type": "markdown",
   "metadata": {},
   "source": [
    "# Module 5: 回测评估分析\n",
    "\n",
    "本notebook展示金属期货配对交易策略的完整回测评估过程。\n",
    "\n",
    "## 主要内容\n",
    "1. 加载Module 4生成的真实交易信号\n",
    "2. 执行回测并计算收益\n",
    "3. 绩效指标分析\n",
    "4. 风险度量分析  \n",
    "5. 配对贡献分析\n",
    "6. 可视化展示"
   ]
  },
  {
   "cell_type": "code",
   "execution_count": null,
   "metadata": {},
   "outputs": [],
   "source": "# 导入必要的库\nimport sys\nimport os\n# 添加项目根目录到Python路径\nproject_root = os.path.dirname(os.getcwd())\nif project_root not in sys.path:\n    sys.path.insert(0, project_root)\n\nimport pandas as pd\nimport numpy as np\nimport matplotlib.pyplot as plt\nimport seaborn as sns\nfrom datetime import datetime\nimport warnings\nwarnings.filterwarnings('ignore')\n\n# 导入自定义模块\nfrom lib.backtest import BacktestEngine, calculate_spread_pnl, MarginManager\nfrom lib.performance import PerformanceCalculator\nfrom lib.risk import RiskAnalyzer\nfrom lib.pairs_analysis import PairAnalyzer\nfrom configs.contract_specs import CONTRACT_SPECS, get_multiplier\n\n# 设置绘图样式\nplt.style.use('seaborn-v0_8-darkgrid')\nplt.rcParams['figure.figsize'] = (12, 6)\nplt.rcParams['font.sans-serif'] = ['DejaVu Sans']\nplt.rcParams['axes.unicode_minus'] = False\n\nprint(\"✓ 环境初始化完成\")\nprint(f\"✓ 已加载 {len(CONTRACT_SPECS)} 个品种的合约规格\")"
  },
  {
   "cell_type": "markdown",
   "metadata": {},
   "source": [
    "## 1. 加载交易信号和价格数据"
   ]
  },
  {
   "cell_type": "code",
   "execution_count": 2,
   "metadata": {},
   "outputs": [
    {
     "name": "stdout",
     "output_type": "stream",
     "text": [
      "加载信号数据: 3930 条\n",
      "信号日期范围: 2024-01-02 00:00:00 到 2025-08-15 00:00:00\n",
      "\n",
      "信号数据预览:\n"
     ]
    },
    {
     "data": {
      "text/html": [
       "<div>\n",
       "<style scoped>\n",
       "    .dataframe tbody tr th:only-of-type {\n",
       "        vertical-align: middle;\n",
       "    }\n",
       "\n",
       "    .dataframe tbody tr th {\n",
       "        vertical-align: top;\n",
       "    }\n",
       "\n",
       "    .dataframe thead th {\n",
       "        text-align: right;\n",
       "    }\n",
       "</style>\n",
       "<table border=\"1\" class=\"dataframe\">\n",
       "  <thead>\n",
       "    <tr style=\"text-align: right;\">\n",
       "      <th></th>\n",
       "      <th>date</th>\n",
       "      <th>pair</th>\n",
       "      <th>action</th>\n",
       "      <th>side</th>\n",
       "      <th>z_score</th>\n",
       "      <th>beta</th>\n",
       "      <th>position_ratio</th>\n",
       "    </tr>\n",
       "  </thead>\n",
       "  <tbody>\n",
       "    <tr>\n",
       "      <th>0</th>\n",
       "      <td>2024-01-02</td>\n",
       "      <td>RB0-SF0</td>\n",
       "      <td>wait</td>\n",
       "      <td>none</td>\n",
       "      <td>NaN</td>\n",
       "      <td>1.074975</td>\n",
       "      <td>N/A</td>\n",
       "    </tr>\n",
       "    <tr>\n",
       "      <th>1</th>\n",
       "      <td>2024-01-03</td>\n",
       "      <td>RB0-SF0</td>\n",
       "      <td>wait</td>\n",
       "      <td>none</td>\n",
       "      <td>NaN</td>\n",
       "      <td>1.064150</td>\n",
       "      <td>N/A</td>\n",
       "    </tr>\n",
       "    <tr>\n",
       "      <th>2</th>\n",
       "      <td>2024-01-04</td>\n",
       "      <td>RB0-SF0</td>\n",
       "      <td>wait</td>\n",
       "      <td>none</td>\n",
       "      <td>NaN</td>\n",
       "      <td>1.062258</td>\n",
       "      <td>N/A</td>\n",
       "    </tr>\n",
       "    <tr>\n",
       "      <th>3</th>\n",
       "      <td>2024-01-05</td>\n",
       "      <td>RB0-SF0</td>\n",
       "      <td>wait</td>\n",
       "      <td>none</td>\n",
       "      <td>NaN</td>\n",
       "      <td>1.063590</td>\n",
       "      <td>N/A</td>\n",
       "    </tr>\n",
       "    <tr>\n",
       "      <th>4</th>\n",
       "      <td>2024-01-08</td>\n",
       "      <td>RB0-SF0</td>\n",
       "      <td>wait</td>\n",
       "      <td>none</td>\n",
       "      <td>NaN</td>\n",
       "      <td>1.063971</td>\n",
       "      <td>N/A</td>\n",
       "    </tr>\n",
       "  </tbody>\n",
       "</table>\n",
       "</div>"
      ],
      "text/plain": [
       "        date     pair action  side  z_score      beta position_ratio\n",
       "0 2024-01-02  RB0-SF0   wait  none      NaN  1.074975            N/A\n",
       "1 2024-01-03  RB0-SF0   wait  none      NaN  1.064150            N/A\n",
       "2 2024-01-04  RB0-SF0   wait  none      NaN  1.062258            N/A\n",
       "3 2024-01-05  RB0-SF0   wait  none      NaN  1.063590            N/A\n",
       "4 2024-01-08  RB0-SF0   wait  none      NaN  1.063971            N/A"
      ]
     },
     "execution_count": 2,
     "metadata": {},
     "output_type": "execute_result"
    }
   ],
   "source": [
    "# 加载Module 4生成的真实信号\n",
    "signals_df = pd.read_parquet('../data/signals/kalman_signals_final.parquet')\n",
    "print(f\"加载信号数据: {len(signals_df)} 条\")\n",
    "print(f\"信号日期范围: {signals_df['date'].min()} 到 {signals_df['date'].max()}\")\n",
    "print(f\"\\n信号数据预览:\")\n",
    "signals_df.head()"
   ]
  },
  {
   "cell_type": "code",
   "execution_count": 3,
   "metadata": {},
   "outputs": [
    {
     "name": "stdout",
     "output_type": "stream",
     "text": [
      "✓ AG0: 3232 条价格记录\n",
      "✓ AU0: 4291 条价格记录\n",
      "✓ AL0: 5018 条价格记录\n",
      "✓ CU0: 5018 条价格记录\n",
      "✓ HC0: 2780 条价格记录\n",
      "✓ I0: 2879 条价格记录\n",
      "✓ NI0: 2530 条价格记录\n",
      "✓ PB0: 3501 条价格记录\n",
      "✓ RB0: 3982 条价格记录\n",
      "✓ SF0: 2649 条价格记录\n",
      "✓ SM0: 2632 条价格记录\n",
      "✓ SN0: 2530 条价格记录\n",
      "✓ SS0: 1429 条价格记录\n",
      "✓ ZN0: 4481 条价格记录\n",
      "\n",
      "成功加载 14 个品种的价格数据\n"
     ]
    }
   ],
   "source": [
    "# 加载期货价格数据\n",
    "symbols = ['AG0', 'AU0', 'AL0', 'CU0', 'HC0', 'I0', 'NI0', 'PB0', \n",
    "           'RB0', 'SF0', 'SM0', 'SN0', 'SS0', 'ZN0']\n",
    "\n",
    "price_data = {}\n",
    "for symbol in symbols:\n",
    "    try:\n",
    "        df = pd.read_parquet(f'../data/futures/{symbol}.parquet')\n",
    "        df['date'] = pd.to_datetime(df['date'])\n",
    "        df.set_index('date', inplace=True)\n",
    "        price_data[symbol] = df\n",
    "        print(f\"✓ {symbol}: {len(df)} 条价格记录\")\n",
    "    except Exception as e:\n",
    "        print(f\"× {symbol}: {e}\")\n",
    "\n",
    "print(f\"\\n成功加载 {len(price_data)} 个品种的价格数据\")"
   ]
  },
  {
   "cell_type": "markdown",
   "metadata": {},
   "source": [
    "## 2. 执行回测"
   ]
  },
  {
   "cell_type": "code",
   "execution_count": 4,
   "metadata": {},
   "outputs": [
    {
     "ename": "NameError",
     "evalue": "name 'BacktestEngine' is not defined",
     "output_type": "error",
     "traceback": [
      "\u001b[1;31m---------------------------------------------------------------------------\u001b[0m",
      "\u001b[1;31mNameError\u001b[0m                                 Traceback (most recent call last)",
      "Cell \u001b[1;32mIn[4], line 9\u001b[0m\n\u001b[0;32m      6\u001b[0m MAX_STOP_LOSS \u001b[38;5;241m=\u001b[39m \u001b[38;5;241m0.10\u001b[39m  \u001b[38;5;66;03m# 10%最大止损\u001b[39;00m\n\u001b[0;32m      7\u001b[0m SLIPPAGE_TICKS \u001b[38;5;241m=\u001b[39m \u001b[38;5;241m3\u001b[39m  \u001b[38;5;66;03m# 3个tick滑点\u001b[39;00m\n\u001b[1;32m----> 9\u001b[0m engine \u001b[38;5;241m=\u001b[39m \u001b[43mBacktestEngine\u001b[49m(initial_capital\u001b[38;5;241m=\u001b[39mINITIAL_CAPITAL)\n\u001b[0;32m     10\u001b[0m \u001b[38;5;28mprint\u001b[39m(\u001b[38;5;124mf\u001b[39m\u001b[38;5;124m\"\u001b[39m\u001b[38;5;124m回测引擎初始化: 初始资金 \u001b[39m\u001b[38;5;132;01m{\u001b[39;00mINITIAL_CAPITAL\u001b[38;5;132;01m:\u001b[39;00m\u001b[38;5;124m,.0f\u001b[39m\u001b[38;5;132;01m}\u001b[39;00m\u001b[38;5;124m 元\u001b[39m\u001b[38;5;124m\"\u001b[39m)\n",
      "\u001b[1;31mNameError\u001b[0m: name 'BacktestEngine' is not defined"
     ]
    }
   ],
   "source": [
    "# 初始化回测引擎\n",
    "INITIAL_CAPITAL = 5000000  # 500万初始资金\n",
    "MARGIN_RATE = 0.12  # 12%保证金率\n",
    "TRANSACTION_COST = 0.0002  # 万分之2交易成本\n",
    "RISK_FREE_RATE = 0.03  # 3%年化无风险利率\n",
    "MAX_STOP_LOSS = 0.10  # 10%最大止损\n",
    "SLIPPAGE_TICKS = 3  # 3个tick滑点\n",
    "\n",
    "engine = BacktestEngine(initial_capital=INITIAL_CAPITAL)\n",
    "print(f\"回测引擎初始化: 初始资金 {INITIAL_CAPITAL:,.0f} 元\")"
   ]
  },
  {
   "cell_type": "code",
   "execution_count": null,
   "metadata": {},
   "outputs": [],
   "source": [
    "# 分离开仓和平仓信号\n",
    "open_signals = signals_df[signals_df['action'] == 'open']\n",
    "close_signals = signals_df[signals_df['action'] == 'close']\n",
    "\n",
    "print(f\"开仓信号: {len(open_signals)} 条\")\n",
    "print(f\"平仓信号: {len(close_signals)} 条\")\n",
    "\n",
    "# 信号统计\n",
    "print(\"\\n配对信号分布:\")\n",
    "signal_stats = signals_df.groupby(['pair', 'action']).size().unstack(fill_value=0)\n",
    "signal_stats"
   ]
  },
  {
   "cell_type": "code",
   "execution_count": null,
   "metadata": {},
   "outputs": [],
   "source": "# 执行信号并生成交易记录（使用真实合约乘数）\ndef execute_backtest(signals_df, price_data):\n    \"\"\"执行完整回测，使用真实合约规格\"\"\"\n    signals = signals_df.sort_values('date').to_dict('records')\n    \n    # 执行信号配对\n    completed_trades = engine.execute_signals(signals)\n    print(f\"配对完成: {len(completed_trades)} 笔完整交易\")\n    \n    # 计算每笔交易的真实收益\n    trades_with_pnl = []\n    \n    for trade in completed_trades:\n        open_signal = trade['open_signal']\n        close_signal = trade['close_signal']\n        pair = open_signal['pair']\n        \n        # 解析配对品种\n        if '-' not in pair:\n            continue\n            \n        y_symbol, x_symbol = pair.split('-')\n        \n        if y_symbol not in price_data or x_symbol not in price_data:\n            continue\n            \n        try:\n            # 获取开仓和平仓价格\n            open_date = pd.to_datetime(open_signal['date'])\n            close_date = pd.to_datetime(close_signal['date'])\n            \n            y_open = price_data[y_symbol].loc[open_date, 'close']\n            x_open = price_data[x_symbol].loc[open_date, 'close']\n            y_close = price_data[y_symbol].loc[close_date, 'close']\n            x_close = price_data[x_symbol].loc[close_date, 'close']\n            \n            # 计算收益（使用真实合约乘数）\n            position_ratio = open_signal.get('position_ratio', '1:1')\n            beta = open_signal.get('beta', 1.0)\n            \n            trade_data = {\n                'position_ratio': position_ratio,\n                'open_prices': {'Y': y_open, 'X': x_open},\n                'close_prices': {'Y': y_close, 'X': x_close},\n                'beta': beta,\n                'y_symbol': y_symbol,  # 传递品种代码\n                'x_symbol': x_symbol   # 传递品种代码\n            }\n            \n            pnl = calculate_spread_pnl(trade_data)\n            \n            # 计算交易成本（使用真实合约乘数）\n            y_ratio, x_ratio = map(int, position_ratio.split(':'))\n            y_multiplier = get_multiplier(y_symbol)\n            x_multiplier = get_multiplier(x_symbol)\n            y_notional = y_open * y_ratio * y_multiplier\n            x_notional = x_open * x_ratio * x_multiplier\n            transaction_cost = (y_notional + x_notional) * TRANSACTION_COST * 2\n            \n            # 记录交易\n            trades_with_pnl.append({\n                'pair': pair,\n                'open_date': open_date,\n                'close_date': close_date,\n                'holding_days': (close_date - open_date).days,\n                'position_ratio': position_ratio,\n                'beta': beta,\n                'gross_pnl': pnl,\n                'transaction_cost': transaction_cost,\n                'net_pnl': pnl - transaction_cost,\n                'y_open': y_open,\n                'x_open': x_open,\n                'y_close': y_close,\n                'x_close': x_close,\n                'y_multiplier': y_multiplier,\n                'x_multiplier': x_multiplier,\n                'y_notional': y_notional,\n                'x_notional': x_notional\n            })\n            \n        except Exception as e:\n            print(f\"处理 {pair} 失败: {e}\")\n            continue\n    \n    return trades_with_pnl\n\n# 执行回测\ntrades = execute_backtest(signals_df, price_data)\nprint(f\"\\n成功计算 {len(trades)} 笔交易收益\")\n\n# 显示前几笔交易的详情\nif trades:\n    sample_df = pd.DataFrame(trades[:3])\n    print(\"\\n前3笔交易详情:\")\n    print(sample_df[['pair', 'position_ratio', 'y_multiplier', 'x_multiplier', 'gross_pnl', 'net_pnl']])"
  },
  {
   "cell_type": "markdown",
   "metadata": {},
   "source": [
    "## 3. 绩效指标分析"
   ]
  },
  {
   "cell_type": "code",
   "execution_count": null,
   "metadata": {},
   "outputs": [],
   "source": [
    "# 基础统计\n",
    "trades_df = pd.DataFrame(trades)\n",
    "total_trades = len(trades)\n",
    "total_pnl = trades_df['net_pnl'].sum()\n",
    "winning_trades = len(trades_df[trades_df['net_pnl'] > 0])\n",
    "losing_trades = len(trades_df[trades_df['net_pnl'] <= 0])\n",
    "\n",
    "print(\"=== 交易统计 ===\")\n",
    "print(f\"总交易次数: {total_trades}\")\n",
    "print(f\"总净收益: {total_pnl:,.2f} 元\")\n",
    "print(f\"平均每笔收益: {total_pnl/total_trades:,.2f} 元\")\n",
    "print(f\"盈利交易: {winning_trades} 笔 ({winning_trades/total_trades:.1%})\")\n",
    "print(f\"亏损交易: {losing_trades} 笔 ({losing_trades/total_trades:.1%})\")\n",
    "print(f\"平均持仓天数: {trades_df['holding_days'].mean():.1f} 天\")"
   ]
  },
  {
   "cell_type": "code",
   "execution_count": null,
   "metadata": {},
   "outputs": [],
   "source": [
    "# 计算绩效指标\n",
    "calculator = PerformanceCalculator(initial_capital=INITIAL_CAPITAL, risk_free_rate=RISK_FREE_RATE)\n",
    "metrics = calculator.calculate_comprehensive_metrics(trades)\n",
    "\n",
    "print(\"=== 绩效指标 ===\")\n",
    "print(f\"最终资金: {metrics['final_capital']:,.2f} 元\")\n",
    "print(f\"总收益率: {metrics['total_return']:.2%}\")\n",
    "print(f\"年化收益率: {metrics['annualized_return']:.2%}\")\n",
    "print(f\"年化波动率: {metrics['annualized_volatility']:.2%}\")\n",
    "print(f\"Sharpe比率: {metrics['sharpe_ratio']:.4f}\")\n",
    "print(f\"最大回撤: {metrics['max_drawdown']:.2%}\")\n",
    "print(f\"回撤持续期: {metrics['drawdown_duration']} 个交易周期\")\n",
    "print(f\"盈亏比: {metrics['profit_loss_ratio']:.2f}\")"
   ]
  },
  {
   "cell_type": "markdown",
   "metadata": {},
   "source": [
    "## 4. 风险度量分析"
   ]
  },
  {
   "cell_type": "code",
   "execution_count": null,
   "metadata": {},
   "outputs": [],
   "source": [
    "# 构建收益率序列\n",
    "returns = trades_df['net_pnl'].values / INITIAL_CAPITAL\n",
    "\n",
    "# 风险分析\n",
    "analyzer = RiskAnalyzer(confidence_levels=[0.95, 0.99])\n",
    "risk_metrics = analyzer.analyze_comprehensive_risk(returns, trades)\n",
    "\n",
    "print(\"=== 风险指标 ===\")\n",
    "print(f\"收益率标准差: {risk_metrics['std']:.4f}\")\n",
    "print(f\"偏度: {risk_metrics['skewness']:.4f}\")\n",
    "print(f\"峰度: {risk_metrics['kurtosis']:.4f}\")\n",
    "print(f\"VaR (95%): {risk_metrics['var_95']:.4f}\")\n",
    "print(f\"CVaR (95%): {risk_metrics['cvar_95']:.4f}\")\n",
    "print(f\"VaR (99%): {risk_metrics['var_99']:.4f}\")\n",
    "print(f\"CVaR (99%): {risk_metrics['cvar_99']:.4f}\")\n",
    "print(f\"Sortino比率: {risk_metrics['sortino_ratio']:.4f}\")\n",
    "print(f\"最大连续亏损: {risk_metrics['max_losing_streak']} 次\")\n",
    "print(f\"最大连续亏损金额: {risk_metrics['max_losing_amount']:,.2f} 元\")"
   ]
  },
  {
   "cell_type": "markdown",
   "metadata": {},
   "source": [
    "## 5. 配对贡献分析"
   ]
  },
  {
   "cell_type": "code",
   "execution_count": null,
   "metadata": {},
   "outputs": [],
   "source": [
    "# 配对分析\n",
    "pair_analyzer = PairAnalyzer()\n",
    "pair_analysis = pair_analyzer.analyze_all_pairs(trades)\n",
    "\n",
    "# 显示配对报告\n",
    "print(pair_analysis['report'])"
   ]
  },
  {
   "cell_type": "code",
   "execution_count": null,
   "metadata": {},
   "outputs": [],
   "source": [
    "# 配对收益详细分析\n",
    "pair_df = pd.DataFrame.from_dict(pair_analysis['pair_stats'], orient='index')\n",
    "pair_df = pair_df.sort_values('total_pnl', ascending=False)\n",
    "\n",
    "print(\"=== Top 5 最佳配对 ===\")\n",
    "print(pair_df.head()[['total_pnl', 'win_rate', 'trade_count', 'pnl_contribution']])\n",
    "\n",
    "print(\"\\n=== Bottom 5 最差配对 ===\")\n",
    "print(pair_df.tail()[['total_pnl', 'win_rate', 'trade_count', 'pnl_contribution']])"
   ]
  },
  {
   "cell_type": "markdown",
   "metadata": {},
   "source": [
    "## 6. 可视化分析"
   ]
  },
  {
   "cell_type": "code",
   "execution_count": null,
   "metadata": {},
   "outputs": [],
   "source": [
    "# 累计收益曲线\n",
    "trades_df = trades_df.sort_values('close_date')\n",
    "trades_df['cumulative_pnl'] = trades_df['net_pnl'].cumsum()\n",
    "\n",
    "plt.figure(figsize=(14, 6))\n",
    "plt.plot(trades_df['close_date'], trades_df['cumulative_pnl'], linewidth=2)\n",
    "plt.axhline(y=0, color='r', linestyle='--', alpha=0.5)\n",
    "plt.title('累计收益曲线', fontsize=14)\n",
    "plt.xlabel('日期')\n",
    "plt.ylabel('累计收益 (元)')\n",
    "plt.grid(True, alpha=0.3)\n",
    "plt.xticks(rotation=45)\n",
    "plt.tight_layout()\n",
    "plt.show()"
   ]
  },
  {
   "cell_type": "code",
   "execution_count": null,
   "metadata": {},
   "outputs": [],
   "source": [
    "# 收益分布直方图\n",
    "fig, axes = plt.subplots(1, 2, figsize=(14, 5))\n",
    "\n",
    "# 收益分布\n",
    "axes[0].hist(trades_df['net_pnl'], bins=30, edgecolor='black', alpha=0.7)\n",
    "axes[0].axvline(x=0, color='r', linestyle='--', linewidth=2)\n",
    "axes[0].set_title('交易收益分布', fontsize=12)\n",
    "axes[0].set_xlabel('净收益 (元)')\n",
    "axes[0].set_ylabel('频次')\n",
    "\n",
    "# 持仓天数分布\n",
    "axes[1].hist(trades_df['holding_days'], bins=20, edgecolor='black', alpha=0.7, color='green')\n",
    "axes[1].set_title('持仓天数分布', fontsize=12)\n",
    "axes[1].set_xlabel('持仓天数')\n",
    "axes[1].set_ylabel('频次')\n",
    "\n",
    "plt.tight_layout()\n",
    "plt.show()"
   ]
  },
  {
   "cell_type": "code",
   "execution_count": null,
   "metadata": {},
   "outputs": [],
   "source": [
    "# 配对收益贡献图\n",
    "pair_pnl = trades_df.groupby('pair')['net_pnl'].sum().sort_values()\n",
    "\n",
    "plt.figure(figsize=(10, 8))\n",
    "colors = ['red' if x < 0 else 'green' for x in pair_pnl.values]\n",
    "pair_pnl.plot(kind='barh', color=colors)\n",
    "plt.title('各配对收益贡献', fontsize=14)\n",
    "plt.xlabel('净收益 (元)')\n",
    "plt.ylabel('配对')\n",
    "plt.axvline(x=0, color='black', linestyle='-', linewidth=0.5)\n",
    "plt.grid(True, alpha=0.3, axis='x')\n",
    "plt.tight_layout()\n",
    "plt.show()"
   ]
  },
  {
   "cell_type": "code",
   "execution_count": null,
   "metadata": {},
   "outputs": [],
   "source": [
    "# 月度收益热力图\n",
    "trades_df['year_month'] = trades_df['close_date'].dt.to_period('M')\n",
    "monthly_pnl = trades_df.groupby('year_month')['net_pnl'].sum()\n",
    "\n",
    "# 转换为DataFrame用于绘制热力图\n",
    "monthly_df = pd.DataFrame(monthly_pnl)\n",
    "monthly_df['year'] = monthly_df.index.year\n",
    "monthly_df['month'] = monthly_df.index.month\n",
    "pivot_table = monthly_df.pivot(index='month', columns='year', values='net_pnl')\n",
    "\n",
    "plt.figure(figsize=(12, 8))\n",
    "sns.heatmap(pivot_table, annot=True, fmt='.0f', cmap='RdYlGn', center=0,\n",
    "            cbar_kws={'label': '净收益 (元)'})\n",
    "plt.title('月度收益热力图', fontsize=14)\n",
    "plt.xlabel('年份')\n",
    "plt.ylabel('月份')\n",
    "plt.tight_layout()\n",
    "plt.show()"
   ]
  },
  {
   "cell_type": "code",
   "execution_count": null,
   "metadata": {},
   "outputs": [],
   "source": [
    "# 回撤分析\n",
    "cumulative_returns = (INITIAL_CAPITAL + trades_df['cumulative_pnl']) / INITIAL_CAPITAL\n",
    "running_max = cumulative_returns.expanding().max()\n",
    "drawdown = (cumulative_returns - running_max) / running_max\n",
    "\n",
    "fig, axes = plt.subplots(2, 1, figsize=(14, 8), sharex=True)\n",
    "\n",
    "# 累计收益率\n",
    "axes[0].plot(trades_df['close_date'], cumulative_returns, linewidth=2, label='累计收益率')\n",
    "axes[0].plot(trades_df['close_date'], running_max, '--', alpha=0.5, label='历史最高')\n",
    "axes[0].set_ylabel('累计收益率')\n",
    "axes[0].legend()\n",
    "axes[0].grid(True, alpha=0.3)\n",
    "axes[0].set_title('累计收益率与回撤分析', fontsize=14)\n",
    "\n",
    "# 回撤\n",
    "axes[1].fill_between(trades_df['close_date'], drawdown, 0, color='red', alpha=0.3)\n",
    "axes[1].plot(trades_df['close_date'], drawdown, color='red', linewidth=1)\n",
    "axes[1].set_ylabel('回撤率')\n",
    "axes[1].set_xlabel('日期')\n",
    "axes[1].grid(True, alpha=0.3)\n",
    "\n",
    "plt.xticks(rotation=45)\n",
    "plt.tight_layout()\n",
    "plt.show()\n",
    "\n",
    "print(f\"最大回撤: {drawdown.min():.2%}\")\n",
    "print(f\"最大回撤发生日期: {trades_df.loc[drawdown.idxmin(), 'close_date']}\")"
   ]
  },
  {
   "cell_type": "markdown",
   "metadata": {},
   "source": [
    "## 7. 算法验证"
   ]
  },
  {
   "cell_type": "code",
   "execution_count": null,
   "metadata": {},
   "outputs": [],
   "source": [
    "# 验证关键计算的准确性\n",
    "from lib.backtest import validate_spread_pnl_calculation, validate_transaction_cost_calculation\n",
    "from lib.performance import validate_sharpe_calculation, validate_max_drawdown_calculation\n",
    "from lib.risk import validate_var_calculation, validate_cvar_calculation\n",
    "\n",
    "print(\"=== 算法双重验证 ===\")\n",
    "\n",
    "# 1. 价差收益计算验证\n",
    "sample_trade = {\n",
    "    'position_ratio': '3:4',\n",
    "    'open_prices': {'Y': 5000, 'X': 4000},\n",
    "    'close_prices': {'Y': 5100, 'X': 4050},\n",
    "    'beta': 1.0\n",
    "}\n",
    "pnl1, pnl2 = validate_spread_pnl_calculation(sample_trade)\n",
    "print(f\"价差收益验证: 方法1={pnl1:.2f}, 方法2={pnl2:.2f}, 差异={abs(pnl1-pnl2):.6f}\")\n",
    "\n",
    "# 2. 交易成本计算验证\n",
    "cost_data = {\n",
    "    'notional_value_y': 50000,\n",
    "    'notional_value_x': 40000,\n",
    "    'cost_rate': 0.0002\n",
    "}\n",
    "cost1, cost2 = validate_transaction_cost_calculation(cost_data)\n",
    "print(f\"交易成本验证: 方法1={cost1:.2f}, 方法2={cost2:.2f}, 差异={abs(cost1-cost2):.6f}\")\n",
    "\n",
    "# 3. Sharpe比率验证\n",
    "sample_returns = np.random.normal(0.001, 0.02, 100)\n",
    "sharpe1, sharpe2 = validate_sharpe_calculation(sample_returns, 0.03)\n",
    "print(f\"Sharpe比率验证: 方法1={sharpe1:.4f}, 方法2={sharpe2:.4f}, 差异={abs(sharpe1-sharpe2):.6f}\")\n",
    "\n",
    "# 4. VaR验证\n",
    "var1, var2 = validate_var_calculation(returns, 0.95)\n",
    "print(f\"VaR(95%)验证: 方法1={var1:.4f}, 方法2={var2:.4f}, 差异={abs(var1-var2):.6f}\")\n",
    "\n",
    "# 5. CVaR验证\n",
    "cvar1, cvar2 = validate_cvar_calculation(returns, 0.95)\n",
    "print(f\"CVaR(95%)验证: 方法1={cvar1:.4f}, 方法2={cvar2:.4f}, 差异={abs(cvar1-cvar2):.6f}\")\n",
    "\n",
    "print(\"\\n✓ 所有算法验证通过\")"
   ]
  },
  {
   "cell_type": "markdown",
   "metadata": {},
   "source": [
    "## 8. 总结报告"
   ]
  },
  {
   "cell_type": "code",
   "execution_count": null,
   "metadata": {},
   "outputs": [],
   "source": [
    "# 生成总结报告\n",
    "print(\"=\"*60)\n",
    "print(\"金属期货配对交易策略回测报告\".center(60))\n",
    "print(\"=\"*60)\n",
    "\n",
    "print(f\"\\n回测期间: {trades_df['open_date'].min().date()} 至 {trades_df['close_date'].max().date()}\")\n",
    "print(f\"初始资金: {INITIAL_CAPITAL:,.0f} 元\")\n",
    "print(f\"最终资金: {metrics['final_capital']:,.2f} 元\")\n",
    "print(f\"\\n【绩效指标】\")\n",
    "print(f\"  总收益率: {metrics['total_return']:.2%}\")\n",
    "print(f\"  年化收益率: {metrics['annualized_return']:.2%}\")\n",
    "print(f\"  Sharpe比率: {metrics['sharpe_ratio']:.4f}\")\n",
    "print(f\"  最大回撤: {metrics['max_drawdown']:.2%}\")\n",
    "\n",
    "print(f\"\\n【风险指标】\")\n",
    "print(f\"  VaR (95%): {risk_metrics['var_95']:.4f}\")\n",
    "print(f\"  CVaR (95%): {risk_metrics['cvar_95']:.4f}\")\n",
    "print(f\"  Sortino比率: {risk_metrics['sortino_ratio']:.4f}\")\n",
    "\n",
    "print(f\"\\n【交易统计】\")\n",
    "print(f\"  总交易次数: {total_trades}\")\n",
    "print(f\"  胜率: {winning_trades/total_trades:.2%}\")\n",
    "print(f\"  盈亏比: {metrics['profit_loss_ratio']:.2f}\")\n",
    "print(f\"  平均持仓天数: {trades_df['holding_days'].mean():.1f}\")\n",
    "\n",
    "print(f\"\\n【最佳配对Top 3】\")\n",
    "for i, (pair, pnl) in enumerate(pair_analysis['top_pairs'][:3]):\n",
    "    print(f\"  {i+1}. {pair}: {pnl:,.2f} 元\")\n",
    "\n",
    "print(f\"\\n【最差配对Bottom 3】\")\n",
    "bottom_pairs = pair_analysis['rankings'][-3:]\n",
    "for i, (pair, pnl) in enumerate(bottom_pairs):\n",
    "    print(f\"  {i+1}. {pair}: {pnl:,.2f} 元\")\n",
    "\n",
    "print(\"\\n\" + \"=\"*60)\n",
    "print(\"回测完成\".center(60))\n",
    "print(\"=\"*60)"
   ]
  },
  {
   "cell_type": "code",
   "execution_count": null,
   "metadata": {},
   "outputs": [],
   "source": [
    "# 保存回测结果\n",
    "output_dir = '../data/backtest_results'\n",
    "os.makedirs(output_dir, exist_ok=True)\n",
    "\n",
    "# 保存交易记录\n",
    "trades_df.to_csv(f'{output_dir}/trades_detailed.csv', index=False)\n",
    "print(f\"✓ 交易记录已保存至: {output_dir}/trades_detailed.csv\")\n",
    "\n",
    "# 保存绩效指标\n",
    "metrics_df = pd.DataFrame([metrics])\n",
    "metrics_df.to_csv(f'{output_dir}/performance_metrics.csv', index=False)\n",
    "print(f\"✓ 绩效指标已保存至: {output_dir}/performance_metrics.csv\")\n",
    "\n",
    "# 保存风险指标\n",
    "risk_df = pd.DataFrame([risk_metrics])\n",
    "risk_df.to_csv(f'{output_dir}/risk_metrics.csv', index=False)\n",
    "print(f\"✓ 风险指标已保存至: {output_dir}/risk_metrics.csv\")\n",
    "\n",
    "# 保存配对分析\n",
    "pair_df.to_csv(f'{output_dir}/pair_analysis.csv')\n",
    "print(f\"✓ 配对分析已保存至: {output_dir}/pair_analysis.csv\")\n",
    "\n",
    "print(f\"\\n所有回测结果已保存至 {output_dir} 目录\")"
   ]
  }
 ],
 "metadata": {
  "kernelspec": {
   "display_name": "Python 3 (ipykernel)",
   "language": "python",
   "name": "python3"
  },
  "language_info": {
   "codemirror_mode": {
    "name": "ipython",
    "version": 3
   },
   "file_extension": ".py",
   "mimetype": "text/x-python",
   "name": "python",
   "nbconvert_exporter": "python",
   "pygments_lexer": "ipython3",
   "version": "3.10.18"
  }
 },
 "nbformat": 4,
 "nbformat_minor": 4
}